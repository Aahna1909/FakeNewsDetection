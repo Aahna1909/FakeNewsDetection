{
 "cells": [
  {
   "cell_type": "code",
   "execution_count": 1,
   "id": "0ac8268f",
   "metadata": {},
   "outputs": [],
   "source": [
    "import pandas as pd\n",
    "import numpy as np\n",
    "import matplotlib.pyplot as plt\n",
    "import seaborn as sns\n",
    "from sklearn.metrics import confusion_matrix, classification_report\n",
    "from sklearn.metrics import precision_recall_curve\n",
    "from sklearn.metrics import plot_precision_recall_curve\n",
    "from sklearn.metrics import log_loss,roc_auc_score,precision_score,f1_score,recall_score,roc_curve,auc\n",
    "import matplotlib.pyplot as plt"
   ]
  },
  {
   "cell_type": "code",
   "execution_count": 2,
   "id": "49add72c",
   "metadata": {},
   "outputs": [],
   "source": [
    "from sklearn.naive_bayes import MultinomialNB\n",
    "from sklearn.linear_model import LogisticRegression\n",
    "from sklearn.tree import DecisionTreeClassifier\n",
    "from sklearn.ensemble import RandomForestClassifier,AdaBoostClassifier, GradientBoostingClassifier\n",
    "from sklearn.neighbors import KNeighborsClassifier\n",
    "from sklearn.svm import SVC\n",
    "from sklearn.neural_network import MLPClassifier\n",
    "from sklearn.naive_bayes import GaussianNB\n",
    "from sklearn.ensemble import StackingClassifier\n",
    "from sklearn.model_selection import train_test_split"
   ]
  },
  {
   "cell_type": "code",
   "execution_count": 3,
   "id": "c3a578f4",
   "metadata": {},
   "outputs": [],
   "source": [
    "real=pd.read_csv('True.csv')\n",
    "fake=pd.read_csv('Fake.csv')"
   ]
  },
  {
   "cell_type": "code",
   "execution_count": 4,
   "id": "a24ab95e",
   "metadata": {},
   "outputs": [
    {
     "data": {
      "text/html": [
       "<div>\n",
       "<style scoped>\n",
       "    .dataframe tbody tr th:only-of-type {\n",
       "        vertical-align: middle;\n",
       "    }\n",
       "\n",
       "    .dataframe tbody tr th {\n",
       "        vertical-align: top;\n",
       "    }\n",
       "\n",
       "    .dataframe thead th {\n",
       "        text-align: right;\n",
       "    }\n",
       "</style>\n",
       "<table border=\"1\" class=\"dataframe\">\n",
       "  <thead>\n",
       "    <tr style=\"text-align: right;\">\n",
       "      <th></th>\n",
       "      <th>title</th>\n",
       "      <th>text</th>\n",
       "      <th>subject</th>\n",
       "      <th>date</th>\n",
       "    </tr>\n",
       "  </thead>\n",
       "  <tbody>\n",
       "    <tr>\n",
       "      <th>0</th>\n",
       "      <td>As U.S. budget fight looms, Republicans flip t...</td>\n",
       "      <td>WASHINGTON (Reuters) - The head of a conservat...</td>\n",
       "      <td>politicsNews</td>\n",
       "      <td>December 31, 2017</td>\n",
       "    </tr>\n",
       "    <tr>\n",
       "      <th>1</th>\n",
       "      <td>U.S. military to accept transgender recruits o...</td>\n",
       "      <td>WASHINGTON (Reuters) - Transgender people will...</td>\n",
       "      <td>politicsNews</td>\n",
       "      <td>December 29, 2017</td>\n",
       "    </tr>\n",
       "    <tr>\n",
       "      <th>2</th>\n",
       "      <td>Senior U.S. Republican senator: 'Let Mr. Muell...</td>\n",
       "      <td>WASHINGTON (Reuters) - The special counsel inv...</td>\n",
       "      <td>politicsNews</td>\n",
       "      <td>December 31, 2017</td>\n",
       "    </tr>\n",
       "    <tr>\n",
       "      <th>3</th>\n",
       "      <td>FBI Russia probe helped by Australian diplomat...</td>\n",
       "      <td>WASHINGTON (Reuters) - Trump campaign adviser ...</td>\n",
       "      <td>politicsNews</td>\n",
       "      <td>December 30, 2017</td>\n",
       "    </tr>\n",
       "    <tr>\n",
       "      <th>4</th>\n",
       "      <td>Trump wants Postal Service to charge 'much mor...</td>\n",
       "      <td>SEATTLE/WASHINGTON (Reuters) - President Donal...</td>\n",
       "      <td>politicsNews</td>\n",
       "      <td>December 29, 2017</td>\n",
       "    </tr>\n",
       "  </tbody>\n",
       "</table>\n",
       "</div>"
      ],
      "text/plain": [
       "                                               title  \\\n",
       "0  As U.S. budget fight looms, Republicans flip t...   \n",
       "1  U.S. military to accept transgender recruits o...   \n",
       "2  Senior U.S. Republican senator: 'Let Mr. Muell...   \n",
       "3  FBI Russia probe helped by Australian diplomat...   \n",
       "4  Trump wants Postal Service to charge 'much mor...   \n",
       "\n",
       "                                                text       subject  \\\n",
       "0  WASHINGTON (Reuters) - The head of a conservat...  politicsNews   \n",
       "1  WASHINGTON (Reuters) - Transgender people will...  politicsNews   \n",
       "2  WASHINGTON (Reuters) - The special counsel inv...  politicsNews   \n",
       "3  WASHINGTON (Reuters) - Trump campaign adviser ...  politicsNews   \n",
       "4  SEATTLE/WASHINGTON (Reuters) - President Donal...  politicsNews   \n",
       "\n",
       "                 date  \n",
       "0  December 31, 2017   \n",
       "1  December 29, 2017   \n",
       "2  December 31, 2017   \n",
       "3  December 30, 2017   \n",
       "4  December 29, 2017   "
      ]
     },
     "execution_count": 4,
     "metadata": {},
     "output_type": "execute_result"
    }
   ],
   "source": [
    "real.head()"
   ]
  },
  {
   "cell_type": "code",
   "execution_count": 5,
   "id": "6278f11c",
   "metadata": {},
   "outputs": [
    {
     "data": {
      "text/html": [
       "<div>\n",
       "<style scoped>\n",
       "    .dataframe tbody tr th:only-of-type {\n",
       "        vertical-align: middle;\n",
       "    }\n",
       "\n",
       "    .dataframe tbody tr th {\n",
       "        vertical-align: top;\n",
       "    }\n",
       "\n",
       "    .dataframe thead th {\n",
       "        text-align: right;\n",
       "    }\n",
       "</style>\n",
       "<table border=\"1\" class=\"dataframe\">\n",
       "  <thead>\n",
       "    <tr style=\"text-align: right;\">\n",
       "      <th></th>\n",
       "      <th>title</th>\n",
       "      <th>text</th>\n",
       "      <th>subject</th>\n",
       "      <th>date</th>\n",
       "    </tr>\n",
       "  </thead>\n",
       "  <tbody>\n",
       "    <tr>\n",
       "      <th>0</th>\n",
       "      <td>Donald Trump Sends Out Embarrassing New Year’...</td>\n",
       "      <td>Donald Trump just couldn t wish all Americans ...</td>\n",
       "      <td>News</td>\n",
       "      <td>December 31, 2017</td>\n",
       "    </tr>\n",
       "    <tr>\n",
       "      <th>1</th>\n",
       "      <td>Drunk Bragging Trump Staffer Started Russian ...</td>\n",
       "      <td>House Intelligence Committee Chairman Devin Nu...</td>\n",
       "      <td>News</td>\n",
       "      <td>December 31, 2017</td>\n",
       "    </tr>\n",
       "    <tr>\n",
       "      <th>2</th>\n",
       "      <td>Sheriff David Clarke Becomes An Internet Joke...</td>\n",
       "      <td>On Friday, it was revealed that former Milwauk...</td>\n",
       "      <td>News</td>\n",
       "      <td>December 30, 2017</td>\n",
       "    </tr>\n",
       "    <tr>\n",
       "      <th>3</th>\n",
       "      <td>Trump Is So Obsessed He Even Has Obama’s Name...</td>\n",
       "      <td>On Christmas day, Donald Trump announced that ...</td>\n",
       "      <td>News</td>\n",
       "      <td>December 29, 2017</td>\n",
       "    </tr>\n",
       "    <tr>\n",
       "      <th>4</th>\n",
       "      <td>Pope Francis Just Called Out Donald Trump Dur...</td>\n",
       "      <td>Pope Francis used his annual Christmas Day mes...</td>\n",
       "      <td>News</td>\n",
       "      <td>December 25, 2017</td>\n",
       "    </tr>\n",
       "  </tbody>\n",
       "</table>\n",
       "</div>"
      ],
      "text/plain": [
       "                                               title  \\\n",
       "0   Donald Trump Sends Out Embarrassing New Year’...   \n",
       "1   Drunk Bragging Trump Staffer Started Russian ...   \n",
       "2   Sheriff David Clarke Becomes An Internet Joke...   \n",
       "3   Trump Is So Obsessed He Even Has Obama’s Name...   \n",
       "4   Pope Francis Just Called Out Donald Trump Dur...   \n",
       "\n",
       "                                                text subject  \\\n",
       "0  Donald Trump just couldn t wish all Americans ...    News   \n",
       "1  House Intelligence Committee Chairman Devin Nu...    News   \n",
       "2  On Friday, it was revealed that former Milwauk...    News   \n",
       "3  On Christmas day, Donald Trump announced that ...    News   \n",
       "4  Pope Francis used his annual Christmas Day mes...    News   \n",
       "\n",
       "                date  \n",
       "0  December 31, 2017  \n",
       "1  December 31, 2017  \n",
       "2  December 30, 2017  \n",
       "3  December 29, 2017  \n",
       "4  December 25, 2017  "
      ]
     },
     "execution_count": 5,
     "metadata": {},
     "output_type": "execute_result"
    }
   ],
   "source": [
    "fake.head()"
   ]
  },
  {
   "cell_type": "code",
   "execution_count": 6,
   "id": "09cdb69d",
   "metadata": {},
   "outputs": [],
   "source": [
    "real['Target']=1\n",
    "fake['Target']=0"
   ]
  },
  {
   "cell_type": "code",
   "execution_count": 7,
   "id": "6bcebd98",
   "metadata": {},
   "outputs": [
    {
     "data": {
      "text/html": [
       "<div>\n",
       "<style scoped>\n",
       "    .dataframe tbody tr th:only-of-type {\n",
       "        vertical-align: middle;\n",
       "    }\n",
       "\n",
       "    .dataframe tbody tr th {\n",
       "        vertical-align: top;\n",
       "    }\n",
       "\n",
       "    .dataframe thead th {\n",
       "        text-align: right;\n",
       "    }\n",
       "</style>\n",
       "<table border=\"1\" class=\"dataframe\">\n",
       "  <thead>\n",
       "    <tr style=\"text-align: right;\">\n",
       "      <th></th>\n",
       "      <th>title</th>\n",
       "      <th>text</th>\n",
       "      <th>subject</th>\n",
       "      <th>date</th>\n",
       "      <th>Target</th>\n",
       "    </tr>\n",
       "  </thead>\n",
       "  <tbody>\n",
       "    <tr>\n",
       "      <th>0</th>\n",
       "      <td>As U.S. budget fight looms, Republicans flip t...</td>\n",
       "      <td>WASHINGTON (Reuters) - The head of a conservat...</td>\n",
       "      <td>politicsNews</td>\n",
       "      <td>December 31, 2017</td>\n",
       "      <td>1</td>\n",
       "    </tr>\n",
       "    <tr>\n",
       "      <th>1</th>\n",
       "      <td>U.S. military to accept transgender recruits o...</td>\n",
       "      <td>WASHINGTON (Reuters) - Transgender people will...</td>\n",
       "      <td>politicsNews</td>\n",
       "      <td>December 29, 2017</td>\n",
       "      <td>1</td>\n",
       "    </tr>\n",
       "    <tr>\n",
       "      <th>2</th>\n",
       "      <td>Senior U.S. Republican senator: 'Let Mr. Muell...</td>\n",
       "      <td>WASHINGTON (Reuters) - The special counsel inv...</td>\n",
       "      <td>politicsNews</td>\n",
       "      <td>December 31, 2017</td>\n",
       "      <td>1</td>\n",
       "    </tr>\n",
       "    <tr>\n",
       "      <th>3</th>\n",
       "      <td>FBI Russia probe helped by Australian diplomat...</td>\n",
       "      <td>WASHINGTON (Reuters) - Trump campaign adviser ...</td>\n",
       "      <td>politicsNews</td>\n",
       "      <td>December 30, 2017</td>\n",
       "      <td>1</td>\n",
       "    </tr>\n",
       "    <tr>\n",
       "      <th>4</th>\n",
       "      <td>Trump wants Postal Service to charge 'much mor...</td>\n",
       "      <td>SEATTLE/WASHINGTON (Reuters) - President Donal...</td>\n",
       "      <td>politicsNews</td>\n",
       "      <td>December 29, 2017</td>\n",
       "      <td>1</td>\n",
       "    </tr>\n",
       "  </tbody>\n",
       "</table>\n",
       "</div>"
      ],
      "text/plain": [
       "                                               title  \\\n",
       "0  As U.S. budget fight looms, Republicans flip t...   \n",
       "1  U.S. military to accept transgender recruits o...   \n",
       "2  Senior U.S. Republican senator: 'Let Mr. Muell...   \n",
       "3  FBI Russia probe helped by Australian diplomat...   \n",
       "4  Trump wants Postal Service to charge 'much mor...   \n",
       "\n",
       "                                                text       subject  \\\n",
       "0  WASHINGTON (Reuters) - The head of a conservat...  politicsNews   \n",
       "1  WASHINGTON (Reuters) - Transgender people will...  politicsNews   \n",
       "2  WASHINGTON (Reuters) - The special counsel inv...  politicsNews   \n",
       "3  WASHINGTON (Reuters) - Trump campaign adviser ...  politicsNews   \n",
       "4  SEATTLE/WASHINGTON (Reuters) - President Donal...  politicsNews   \n",
       "\n",
       "                 date  Target  \n",
       "0  December 31, 2017        1  \n",
       "1  December 29, 2017        1  \n",
       "2  December 31, 2017        1  \n",
       "3  December 30, 2017        1  \n",
       "4  December 29, 2017        1  "
      ]
     },
     "execution_count": 7,
     "metadata": {},
     "output_type": "execute_result"
    }
   ],
   "source": [
    "real.head()"
   ]
  },
  {
   "cell_type": "code",
   "execution_count": 8,
   "id": "ff8156d8",
   "metadata": {},
   "outputs": [],
   "source": [
    "news=pd.concat([real,fake])"
   ]
  },
  {
   "cell_type": "code",
   "execution_count": 9,
   "id": "5deb5357",
   "metadata": {},
   "outputs": [
    {
     "data": {
      "text/plain": [
       "title      0\n",
       "text       0\n",
       "subject    0\n",
       "date       0\n",
       "Target     0\n",
       "dtype: int64"
      ]
     },
     "execution_count": 9,
     "metadata": {},
     "output_type": "execute_result"
    }
   ],
   "source": [
    "news.isnull().sum()"
   ]
  },
  {
   "cell_type": "code",
   "execution_count": 10,
   "id": "29f219d7",
   "metadata": {},
   "outputs": [
    {
     "data": {
      "text/plain": [
       "0    23481\n",
       "1    21417\n",
       "Name: Target, dtype: int64"
      ]
     },
     "execution_count": 10,
     "metadata": {},
     "output_type": "execute_result"
    }
   ],
   "source": [
    "news['Target'].value_counts()"
   ]
  },
  {
   "cell_type": "code",
   "execution_count": 11,
   "id": "6436fabc",
   "metadata": {},
   "outputs": [
    {
     "data": {
      "text/plain": [
       "title           209\n",
       "text            209\n",
       "subject         209\n",
       "date            209\n",
       "Target          209\n",
       "is_duplicate    209\n",
       "dtype: int64"
      ]
     },
     "execution_count": 11,
     "metadata": {},
     "output_type": "execute_result"
    }
   ],
   "source": [
    "news[\"is_duplicate\"] = news.duplicated()\n",
    "news[news[\"is_duplicate\"]==True].count() "
   ]
  },
  {
   "cell_type": "code",
   "execution_count": 12,
   "id": "a4a580e7",
   "metadata": {},
   "outputs": [
    {
     "data": {
      "text/html": [
       "<div>\n",
       "<style scoped>\n",
       "    .dataframe tbody tr th:only-of-type {\n",
       "        vertical-align: middle;\n",
       "    }\n",
       "\n",
       "    .dataframe tbody tr th {\n",
       "        vertical-align: top;\n",
       "    }\n",
       "\n",
       "    .dataframe thead th {\n",
       "        text-align: right;\n",
       "    }\n",
       "</style>\n",
       "<table border=\"1\" class=\"dataframe\">\n",
       "  <thead>\n",
       "    <tr style=\"text-align: right;\">\n",
       "      <th></th>\n",
       "      <th>title</th>\n",
       "      <th>text</th>\n",
       "      <th>subject</th>\n",
       "      <th>date</th>\n",
       "      <th>Target</th>\n",
       "      <th>is_duplicate</th>\n",
       "    </tr>\n",
       "  </thead>\n",
       "  <tbody>\n",
       "    <tr>\n",
       "      <th>445</th>\n",
       "      <td>Senate tax bill stalls on deficit-focused 'tri...</td>\n",
       "      <td>WASHINGTON (Reuters) - The U.S. Senate on Thur...</td>\n",
       "      <td>politicsNews</td>\n",
       "      <td>November 30, 2017</td>\n",
       "      <td>1</td>\n",
       "      <td>True</td>\n",
       "    </tr>\n",
       "    <tr>\n",
       "      <th>778</th>\n",
       "      <td>Trump warns 'rogue regime' North Korea of grav...</td>\n",
       "      <td>BEIJING (Reuters) - U.S. President Donald Trum...</td>\n",
       "      <td>politicsNews</td>\n",
       "      <td>November 8, 2017</td>\n",
       "      <td>1</td>\n",
       "      <td>True</td>\n",
       "    </tr>\n",
       "    <tr>\n",
       "      <th>892</th>\n",
       "      <td>Republicans unveil tax cut bill, but the hard ...</td>\n",
       "      <td>WASHINGTON (Reuters) - U.S. House of Represent...</td>\n",
       "      <td>politicsNews</td>\n",
       "      <td>November 2, 2017</td>\n",
       "      <td>1</td>\n",
       "      <td>True</td>\n",
       "    </tr>\n",
       "    <tr>\n",
       "      <th>896</th>\n",
       "      <td>Trump taps Fed centrist Powell to lead U.S. ce...</td>\n",
       "      <td>WASHINGTON (Reuters) - President Donald Trump ...</td>\n",
       "      <td>politicsNews</td>\n",
       "      <td>November 2, 2017</td>\n",
       "      <td>1</td>\n",
       "      <td>True</td>\n",
       "    </tr>\n",
       "    <tr>\n",
       "      <th>974</th>\n",
       "      <td>Two ex-Trump aides charged in Russia probe, th...</td>\n",
       "      <td>WASHINGTON (Reuters) - Federal investigators p...</td>\n",
       "      <td>politicsNews</td>\n",
       "      <td>October 30, 2017</td>\n",
       "      <td>1</td>\n",
       "      <td>True</td>\n",
       "    </tr>\n",
       "    <tr>\n",
       "      <th>...</th>\n",
       "      <td>...</td>\n",
       "      <td>...</td>\n",
       "      <td>...</td>\n",
       "      <td>...</td>\n",
       "      <td>...</td>\n",
       "      <td>...</td>\n",
       "    </tr>\n",
       "    <tr>\n",
       "      <th>21353</th>\n",
       "      <td>Thailand's ousted PM Yingluck has fled abroad:...</td>\n",
       "      <td>BANGKOK (Reuters) - Ousted Thai prime minister...</td>\n",
       "      <td>worldnews</td>\n",
       "      <td>August 25, 2017</td>\n",
       "      <td>1</td>\n",
       "      <td>True</td>\n",
       "    </tr>\n",
       "    <tr>\n",
       "      <th>21408</th>\n",
       "      <td>U.S., North Korea clash at U.N. forum over nuc...</td>\n",
       "      <td>GENEVA (Reuters) - North Korea and the United ...</td>\n",
       "      <td>worldnews</td>\n",
       "      <td>August 22, 2017</td>\n",
       "      <td>1</td>\n",
       "      <td>True</td>\n",
       "    </tr>\n",
       "    <tr>\n",
       "      <th>9942</th>\n",
       "      <td>HILLARY TWEETS MESSAGE In Defense Of DACA…OOPS...</td>\n",
       "      <td>No time to waste   we've got to fight with eve...</td>\n",
       "      <td>politics</td>\n",
       "      <td>Sep 9, 2017</td>\n",
       "      <td>0</td>\n",
       "      <td>True</td>\n",
       "    </tr>\n",
       "    <tr>\n",
       "      <th>11446</th>\n",
       "      <td>FORMER DEMOCRAT WARNS Young Americans: “Rioter...</td>\n",
       "      <td>Who is silencing political speech, physically...</td>\n",
       "      <td>politics</td>\n",
       "      <td>Mar 10, 2017</td>\n",
       "      <td>0</td>\n",
       "      <td>True</td>\n",
       "    </tr>\n",
       "    <tr>\n",
       "      <th>14925</th>\n",
       "      <td>[VIDEO] #BlackLivesMatter Terrorists Storm Dar...</td>\n",
       "      <td>They were probably just looking for a  safe sp...</td>\n",
       "      <td>politics</td>\n",
       "      <td>Nov 16, 2015</td>\n",
       "      <td>0</td>\n",
       "      <td>True</td>\n",
       "    </tr>\n",
       "  </tbody>\n",
       "</table>\n",
       "<p>209 rows × 6 columns</p>\n",
       "</div>"
      ],
      "text/plain": [
       "                                                   title  \\\n",
       "445    Senate tax bill stalls on deficit-focused 'tri...   \n",
       "778    Trump warns 'rogue regime' North Korea of grav...   \n",
       "892    Republicans unveil tax cut bill, but the hard ...   \n",
       "896    Trump taps Fed centrist Powell to lead U.S. ce...   \n",
       "974    Two ex-Trump aides charged in Russia probe, th...   \n",
       "...                                                  ...   \n",
       "21353  Thailand's ousted PM Yingluck has fled abroad:...   \n",
       "21408  U.S., North Korea clash at U.N. forum over nuc...   \n",
       "9942   HILLARY TWEETS MESSAGE In Defense Of DACA…OOPS...   \n",
       "11446  FORMER DEMOCRAT WARNS Young Americans: “Rioter...   \n",
       "14925  [VIDEO] #BlackLivesMatter Terrorists Storm Dar...   \n",
       "\n",
       "                                                    text       subject  \\\n",
       "445    WASHINGTON (Reuters) - The U.S. Senate on Thur...  politicsNews   \n",
       "778    BEIJING (Reuters) - U.S. President Donald Trum...  politicsNews   \n",
       "892    WASHINGTON (Reuters) - U.S. House of Represent...  politicsNews   \n",
       "896    WASHINGTON (Reuters) - President Donald Trump ...  politicsNews   \n",
       "974    WASHINGTON (Reuters) - Federal investigators p...  politicsNews   \n",
       "...                                                  ...           ...   \n",
       "21353  BANGKOK (Reuters) - Ousted Thai prime minister...     worldnews   \n",
       "21408  GENEVA (Reuters) - North Korea and the United ...     worldnews   \n",
       "9942   No time to waste   we've got to fight with eve...      politics   \n",
       "11446   Who is silencing political speech, physically...      politics   \n",
       "14925  They were probably just looking for a  safe sp...      politics   \n",
       "\n",
       "                     date  Target  is_duplicate  \n",
       "445    November 30, 2017        1          True  \n",
       "778     November 8, 2017        1          True  \n",
       "892     November 2, 2017        1          True  \n",
       "896     November 2, 2017        1          True  \n",
       "974     October 30, 2017        1          True  \n",
       "...                   ...     ...           ...  \n",
       "21353    August 25, 2017        1          True  \n",
       "21408    August 22, 2017        1          True  \n",
       "9942          Sep 9, 2017       0          True  \n",
       "11446        Mar 10, 2017       0          True  \n",
       "14925        Nov 16, 2015       0          True  \n",
       "\n",
       "[209 rows x 6 columns]"
      ]
     },
     "execution_count": 12,
     "metadata": {},
     "output_type": "execute_result"
    }
   ],
   "source": [
    "news[news[\"is_duplicate\"]==True]"
   ]
  },
  {
   "cell_type": "code",
   "execution_count": 13,
   "id": "6fa5ec30",
   "metadata": {},
   "outputs": [],
   "source": [
    "news.drop_duplicates(keep=False, inplace=True, ignore_index=True)\n",
    "news.drop(\"is_duplicate\", axis=1, inplace=True) "
   ]
  },
  {
   "cell_type": "code",
   "execution_count": 14,
   "id": "04335e16",
   "metadata": {},
   "outputs": [
    {
     "data": {
      "text/plain": [
       "(44881, 5)"
      ]
     },
     "execution_count": 14,
     "metadata": {},
     "output_type": "execute_result"
    }
   ],
   "source": [
    "news.shape"
   ]
  },
  {
   "cell_type": "code",
   "execution_count": 15,
   "id": "a1b72c6b",
   "metadata": {},
   "outputs": [],
   "source": [
    "subject_count=news['subject'].value_counts()\n",
    "subjects=news['subject'].unique()"
   ]
  },
  {
   "cell_type": "code",
   "execution_count": 16,
   "id": "19e70e9c",
   "metadata": {},
   "outputs": [
    {
     "name": "stdout",
     "output_type": "stream",
     "text": [
      "politicsNews       11255\n",
      "worldnews          10145\n",
      "News                9050\n",
      "politics            6841\n",
      "left-news           4459\n",
      "Government News     1570\n",
      "US_News              783\n",
      "Middle-east          778\n",
      "Name: subject, dtype: int64\n"
     ]
    }
   ],
   "source": [
    "print(subject_count)"
   ]
  },
  {
   "cell_type": "code",
   "execution_count": 17,
   "id": "85565627",
   "metadata": {},
   "outputs": [
    {
     "data": {
      "image/png": "[encoded data removed]",
      "text/plain": [
       "<Figure size 864x360 with 1 Axes>"
      ]
     },
     "metadata": {
      "needs_background": "light"
     },
     "output_type": "display_data"
    }
   ],
   "source": [
    "plt.figure(figsize=(12,5))\n",
    "plt.bar(subjects,subject_count)\n",
    "plt.xlabel(\"Subjects of News\")\n",
    "plt.ylabel(\"Subject Count\")\n",
    "plt.show()"
   ]
  },
  {
   "cell_type": "code",
   "execution_count": 18,
   "id": "424c872d",
   "metadata": {},
   "outputs": [],
   "source": [
    "real_subject_count=real['subject'].value_counts()\n",
    "real_subject=real['subject'].unique()"
   ]
  },
  {
   "cell_type": "code",
   "execution_count": 19,
   "id": "1859e864",
   "metadata": {},
   "outputs": [
    {
     "name": "stdout",
     "output_type": "stream",
     "text": [
      "politicsNews    11272\n",
      "worldnews       10145\n",
      "Name: subject, dtype: int64\n"
     ]
    }
   ],
   "source": [
    "print(real_subject_count)"
   ]
  },
  {
   "cell_type": "code",
   "execution_count": 20,
   "id": "132fa891",
   "metadata": {},
   "outputs": [
    {
     "data": {
      "image/png": "[encoded data removed]",
      "text/plain": [
       "<Figure size 432x288 with 1 Axes>"
      ]
     },
     "metadata": {
      "needs_background": "light"
     },
     "output_type": "display_data"
    }
   ],
   "source": [
    "plt.bar(real_subject,real_subject_count)\n",
    "plt.xlabel(\"Subjects of Real News\")\n",
    "plt.ylabel(\"Subject Count\")\n",
    "plt.show()"
   ]
  },
  {
   "cell_type": "code",
   "execution_count": 21,
   "id": "3eea9764",
   "metadata": {},
   "outputs": [],
   "source": [
    "fake_subject_count=fake['subject'].value_counts()\n",
    "fake_subject=fake['subject'].unique()"
   ]
  },
  {
   "cell_type": "code",
   "execution_count": 22,
   "id": "c14adae8",
   "metadata": {},
   "outputs": [
    {
     "data": {
      "image/png": "[encoded data removed]",
      "text/plain": [
       "<Figure size 864x360 with 1 Axes>"
      ]
     },
     "metadata": {
      "needs_background": "light"
     },
     "output_type": "display_data"
    }
   ],
   "source": [
    "plt.figure(figsize=(12,5))\n",
    "plt.bar(fake_subject,fake_subject_count)\n",
    "plt.xlabel(\"Subjects of Fake News\")\n",
    "plt.ylabel(\"Subject Count\")\n",
    "plt.show()"
   ]
  },
  {
   "cell_type": "code",
   "execution_count": 23,
   "id": "657e4e03",
   "metadata": {},
   "outputs": [],
   "source": [
    "news['text_length'] = news['text'].apply(len)"
   ]
  },
  {
   "cell_type": "code",
   "execution_count": 24,
   "id": "009c7bce",
   "metadata": {},
   "outputs": [],
   "source": [
    "news['title_length'] = news['title'].apply(len)"
   ]
  },
  {
   "cell_type": "code",
   "execution_count": 25,
   "id": "862ea5b8",
   "metadata": {},
   "outputs": [
    {
     "data": {
      "text/html": [
       "<div>\n",
       "<style scoped>\n",
       "    .dataframe tbody tr th:only-of-type {\n",
       "        vertical-align: middle;\n",
       "    }\n",
       "\n",
       "    .dataframe tbody tr th {\n",
       "        vertical-align: top;\n",
       "    }\n",
       "\n",
       "    .dataframe thead th {\n",
       "        text-align: right;\n",
       "    }\n",
       "</style>\n",
       "<table border=\"1\" class=\"dataframe\">\n",
       "  <thead>\n",
       "    <tr style=\"text-align: right;\">\n",
       "      <th></th>\n",
       "      <th>title</th>\n",
       "      <th>text</th>\n",
       "      <th>subject</th>\n",
       "      <th>date</th>\n",
       "      <th>Target</th>\n",
       "      <th>text_length</th>\n",
       "      <th>title_length</th>\n",
       "    </tr>\n",
       "  </thead>\n",
       "  <tbody>\n",
       "    <tr>\n",
       "      <th>0</th>\n",
       "      <td>As U.S. budget fight looms, Republicans flip t...</td>\n",
       "      <td>WASHINGTON (Reuters) - The head of a conservat...</td>\n",
       "      <td>politicsNews</td>\n",
       "      <td>December 31, 2017</td>\n",
       "      <td>1</td>\n",
       "      <td>4659</td>\n",
       "      <td>64</td>\n",
       "    </tr>\n",
       "    <tr>\n",
       "      <th>1</th>\n",
       "      <td>U.S. military to accept transgender recruits o...</td>\n",
       "      <td>WASHINGTON (Reuters) - Transgender people will...</td>\n",
       "      <td>politicsNews</td>\n",
       "      <td>December 29, 2017</td>\n",
       "      <td>1</td>\n",
       "      <td>4077</td>\n",
       "      <td>64</td>\n",
       "    </tr>\n",
       "    <tr>\n",
       "      <th>2</th>\n",
       "      <td>Senior U.S. Republican senator: 'Let Mr. Muell...</td>\n",
       "      <td>WASHINGTON (Reuters) - The special counsel inv...</td>\n",
       "      <td>politicsNews</td>\n",
       "      <td>December 31, 2017</td>\n",
       "      <td>1</td>\n",
       "      <td>2789</td>\n",
       "      <td>60</td>\n",
       "    </tr>\n",
       "    <tr>\n",
       "      <th>3</th>\n",
       "      <td>FBI Russia probe helped by Australian diplomat...</td>\n",
       "      <td>WASHINGTON (Reuters) - Trump campaign adviser ...</td>\n",
       "      <td>politicsNews</td>\n",
       "      <td>December 30, 2017</td>\n",
       "      <td>1</td>\n",
       "      <td>2461</td>\n",
       "      <td>59</td>\n",
       "    </tr>\n",
       "    <tr>\n",
       "      <th>4</th>\n",
       "      <td>Trump wants Postal Service to charge 'much mor...</td>\n",
       "      <td>SEATTLE/WASHINGTON (Reuters) - President Donal...</td>\n",
       "      <td>politicsNews</td>\n",
       "      <td>December 29, 2017</td>\n",
       "      <td>1</td>\n",
       "      <td>5204</td>\n",
       "      <td>69</td>\n",
       "    </tr>\n",
       "    <tr>\n",
       "      <th>...</th>\n",
       "      <td>...</td>\n",
       "      <td>...</td>\n",
       "      <td>...</td>\n",
       "      <td>...</td>\n",
       "      <td>...</td>\n",
       "      <td>...</td>\n",
       "      <td>...</td>\n",
       "    </tr>\n",
       "    <tr>\n",
       "      <th>44876</th>\n",
       "      <td>McPain: John McCain Furious That Iran Treated ...</td>\n",
       "      <td>21st Century Wire says As 21WIRE reported earl...</td>\n",
       "      <td>Middle-east</td>\n",
       "      <td>January 16, 2016</td>\n",
       "      <td>0</td>\n",
       "      <td>3237</td>\n",
       "      <td>61</td>\n",
       "    </tr>\n",
       "    <tr>\n",
       "      <th>44877</th>\n",
       "      <td>JUSTICE? Yahoo Settles E-mail Privacy Class-ac...</td>\n",
       "      <td>21st Century Wire says It s a familiar theme. ...</td>\n",
       "      <td>Middle-east</td>\n",
       "      <td>January 16, 2016</td>\n",
       "      <td>0</td>\n",
       "      <td>1684</td>\n",
       "      <td>81</td>\n",
       "    </tr>\n",
       "    <tr>\n",
       "      <th>44878</th>\n",
       "      <td>Sunnistan: US and Allied ‘Safe Zone’ Plan to T...</td>\n",
       "      <td>Patrick Henningsen  21st Century WireRemember ...</td>\n",
       "      <td>Middle-east</td>\n",
       "      <td>January 15, 2016</td>\n",
       "      <td>0</td>\n",
       "      <td>25065</td>\n",
       "      <td>85</td>\n",
       "    </tr>\n",
       "    <tr>\n",
       "      <th>44879</th>\n",
       "      <td>How to Blow $700 Million: Al Jazeera America F...</td>\n",
       "      <td>21st Century Wire says Al Jazeera America will...</td>\n",
       "      <td>Middle-east</td>\n",
       "      <td>January 14, 2016</td>\n",
       "      <td>0</td>\n",
       "      <td>2685</td>\n",
       "      <td>67</td>\n",
       "    </tr>\n",
       "    <tr>\n",
       "      <th>44880</th>\n",
       "      <td>10 U.S. Navy Sailors Held by Iranian Military ...</td>\n",
       "      <td>21st Century Wire says As 21WIRE predicted in ...</td>\n",
       "      <td>Middle-east</td>\n",
       "      <td>January 12, 2016</td>\n",
       "      <td>0</td>\n",
       "      <td>5251</td>\n",
       "      <td>81</td>\n",
       "    </tr>\n",
       "  </tbody>\n",
       "</table>\n",
       "<p>44881 rows × 7 columns</p>\n",
       "</div>"
      ],
      "text/plain": [
       "                                                   title  \\\n",
       "0      As U.S. budget fight looms, Republicans flip t...   \n",
       "1      U.S. military to accept transgender recruits o...   \n",
       "2      Senior U.S. Republican senator: 'Let Mr. Muell...   \n",
       "3      FBI Russia probe helped by Australian diplomat...   \n",
       "4      Trump wants Postal Service to charge 'much mor...   \n",
       "...                                                  ...   \n",
       "44876  McPain: John McCain Furious That Iran Treated ...   \n",
       "44877  JUSTICE? Yahoo Settles E-mail Privacy Class-ac...   \n",
       "44878  Sunnistan: US and Allied ‘Safe Zone’ Plan to T...   \n",
       "44879  How to Blow $700 Million: Al Jazeera America F...   \n",
       "44880  10 U.S. Navy Sailors Held by Iranian Military ...   \n",
       "\n",
       "                                                    text       subject  \\\n",
       "0      WASHINGTON (Reuters) - The head of a conservat...  politicsNews   \n",
       "1      WASHINGTON (Reuters) - Transgender people will...  politicsNews   \n",
       "2      WASHINGTON (Reuters) - The special counsel inv...  politicsNews   \n",
       "3      WASHINGTON (Reuters) - Trump campaign adviser ...  politicsNews   \n",
       "4      SEATTLE/WASHINGTON (Reuters) - President Donal...  politicsNews   \n",
       "...                                                  ...           ...   \n",
       "44876  21st Century Wire says As 21WIRE reported earl...   Middle-east   \n",
       "44877  21st Century Wire says It s a familiar theme. ...   Middle-east   \n",
       "44878  Patrick Henningsen  21st Century WireRemember ...   Middle-east   \n",
       "44879  21st Century Wire says Al Jazeera America will...   Middle-east   \n",
       "44880  21st Century Wire says As 21WIRE predicted in ...   Middle-east   \n",
       "\n",
       "                     date  Target  text_length  title_length  \n",
       "0      December 31, 2017        1         4659            64  \n",
       "1      December 29, 2017        1         4077            64  \n",
       "2      December 31, 2017        1         2789            60  \n",
       "3      December 30, 2017        1         2461            59  \n",
       "4      December 29, 2017        1         5204            69  \n",
       "...                   ...     ...          ...           ...  \n",
       "44876    January 16, 2016       0         3237            61  \n",
       "44877    January 16, 2016       0         1684            81  \n",
       "44878    January 15, 2016       0        25065            85  \n",
       "44879    January 14, 2016       0         2685            67  \n",
       "44880    January 12, 2016       0         5251            81  \n",
       "\n",
       "[44881 rows x 7 columns]"
      ]
     },
     "execution_count": 25,
     "metadata": {},
     "output_type": "execute_result"
    }
   ],
   "source": [
    "news"
   ]
  },
  {
   "cell_type": "code",
   "execution_count": 26,
   "id": "dbe9fa6e",
   "metadata": {},
   "outputs": [
    {
     "data": {
      "image/png": "[encoded data removed]",
      "text/plain": [
       "<Figure size 432x288 with 1 Axes>"
      ]
     },
     "metadata": {},
     "output_type": "display_data"
    }
   ],
   "source": [
    "sns.set(style=\"whitegrid\")\n",
    "ax = sns.stripplot(x='Target', y='title_length', data=news)\n",
    "plt.show()"
   ]
  },
  {
   "cell_type": "code",
   "execution_count": 27,
   "id": "77211d99",
   "metadata": {},
   "outputs": [
    {
     "data": {
      "image/png": "[encoded data removed]",
      "text/plain": [
       "<Figure size 432x288 with 1 Axes>"
      ]
     },
     "metadata": {},
     "output_type": "display_data"
    }
   ],
   "source": [
    "sns.set(style=\"whitegrid\")\n",
    "ax = sns.stripplot(x='Target', y='text_length', data=news)\n",
    "plt.show()"
   ]
  },
  {
   "cell_type": "code",
   "execution_count": 28,
   "id": "70a6d7c8",
   "metadata": {},
   "outputs": [
    {
     "data": {
      "text/plain": [
       "<AxesSubplot:xlabel='Target', ylabel='text_length'>"
      ]
     },
     "execution_count": 28,
     "metadata": {},
     "output_type": "execute_result"
    },
    {
     "data": {
      "image/png": "[encoded data removed]",
      "text/plain": [
       "<Figure size 720x432 with 1 Axes>"
      ]
     },
     "metadata": {},
     "output_type": "display_data"
    }
   ],
   "source": [
    "plt.figure(figsize = (10,6))\n",
    "sns.barplot(x = 'Target', y = 'text_length', data = news, hue = 'subject')"
   ]
  },
  {
   "cell_type": "code",
   "execution_count": 29,
   "id": "04ba9c25",
   "metadata": {},
   "outputs": [
    {
     "data": {
      "text/plain": [
       "<AxesSubplot:xlabel='Target', ylabel='title_length'>"
      ]
     },
     "execution_count": 29,
     "metadata": {},
     "output_type": "execute_result"
    },
    {
     "data": {
      "image/png": "[encoded data removed]",
      "text/plain": [
       "<Figure size 720x432 with 1 Axes>"
      ]
     },
     "metadata": {},
     "output_type": "display_data"
    }
   ],
   "source": [
    "plt.figure(figsize = (10,6))\n",
    "\n",
    "sns.barplot(x = 'Target', y = 'title_length', data = news, hue = 'subject')"
   ]
  },
  {
   "cell_type": "code",
   "execution_count": 30,
   "id": "e7219e08",
   "metadata": {},
   "outputs": [
    {
     "data": {
      "text/html": [
       "<div>\n",
       "<style scoped>\n",
       "    .dataframe tbody tr th:only-of-type {\n",
       "        vertical-align: middle;\n",
       "    }\n",
       "\n",
       "    .dataframe tbody tr th {\n",
       "        vertical-align: top;\n",
       "    }\n",
       "\n",
       "    .dataframe thead th {\n",
       "        text-align: right;\n",
       "    }\n",
       "</style>\n",
       "<table border=\"1\" class=\"dataframe\">\n",
       "  <thead>\n",
       "    <tr style=\"text-align: right;\">\n",
       "      <th></th>\n",
       "      <th>text_length</th>\n",
       "      <th>title_length</th>\n",
       "    </tr>\n",
       "    <tr>\n",
       "      <th>Target</th>\n",
       "      <th></th>\n",
       "      <th></th>\n",
       "    </tr>\n",
       "  </thead>\n",
       "  <tbody>\n",
       "    <tr>\n",
       "      <th>0</th>\n",
       "      <td>2547.396235</td>\n",
       "      <td>94.198032</td>\n",
       "    </tr>\n",
       "    <tr>\n",
       "      <th>1</th>\n",
       "      <td>2383.221075</td>\n",
       "      <td>64.660935</td>\n",
       "    </tr>\n",
       "  </tbody>\n",
       "</table>\n",
       "</div>"
      ],
      "text/plain": [
       "        text_length  title_length\n",
       "Target                           \n",
       "0       2547.396235     94.198032\n",
       "1       2383.221075     64.660935"
      ]
     },
     "execution_count": 30,
     "metadata": {},
     "output_type": "execute_result"
    }
   ],
   "source": [
    "news.groupby('Target').mean()"
   ]
  },
  {
   "cell_type": "code",
   "execution_count": 31,
   "id": "d1bc5cd4",
   "metadata": {},
   "outputs": [
    {
     "data": {
      "text/plain": [
       "<seaborn.axisgrid.FacetGrid at 0x22124376640>"
      ]
     },
     "execution_count": 31,
     "metadata": {},
     "output_type": "execute_result"
    },
    {
     "data": {
      "image/png": "[encoded data removed]",
      "text/plain": [
       "<Figure size 432x216 with 2 Axes>"
      ]
     },
     "metadata": {},
     "output_type": "display_data"
    }
   ],
   "source": [
    "g = sns.FacetGrid(data = news, col = 'Target')\n",
    "plt.ylabel(\"text_length\")\n",
    "g.map(plt.hist, 'Number of titile', bins = 50)"
   ]
  },
  {
   "cell_type": "code",
   "execution_count": 32,
   "id": "1f36877c",
   "metadata": {},
   "outputs": [
    {
     "data": {
      "text/plain": [
       "<seaborn.axisgrid.FacetGrid at 0x221243d0eb0>"
      ]
     },
     "execution_count": 32,
     "metadata": {},
     "output_type": "execute_result"
    },
    {
     "data": {
      "image/png": "[encoded data removed]",
      "text/plain": [
       "<Figure size 432x216 with 2 Axes>"
      ]
     },
     "metadata": {},
     "output_type": "display_data"
    }
   ],
   "source": [
    "g = sns.FacetGrid(data = news, col = 'Target')\n",
    "g.map(plt.hist, 'title_length', bins = 50)"
   ]
  },
  {
   "cell_type": "code",
   "execution_count": 33,
   "id": "763fea74",
   "metadata": {},
   "outputs": [],
   "source": [
    "news=news.sample(frac=1).reset_index(drop=True)"
   ]
  },
  {
   "cell_type": "code",
   "execution_count": 34,
   "id": "4f5063f7",
   "metadata": {},
   "outputs": [
    {
     "data": {
      "text/html": [
       "<div>\n",
       "<style scoped>\n",
       "    .dataframe tbody tr th:only-of-type {\n",
       "        vertical-align: middle;\n",
       "    }\n",
       "\n",
       "    .dataframe tbody tr th {\n",
       "        vertical-align: top;\n",
       "    }\n",
       "\n",
       "    .dataframe thead th {\n",
       "        text-align: right;\n",
       "    }\n",
       "</style>\n",
       "<table border=\"1\" class=\"dataframe\">\n",
       "  <thead>\n",
       "    <tr style=\"text-align: right;\">\n",
       "      <th></th>\n",
       "      <th>title</th>\n",
       "      <th>text</th>\n",
       "      <th>subject</th>\n",
       "      <th>date</th>\n",
       "      <th>Target</th>\n",
       "      <th>text_length</th>\n",
       "      <th>title_length</th>\n",
       "    </tr>\n",
       "  </thead>\n",
       "  <tbody>\n",
       "    <tr>\n",
       "      <th>0</th>\n",
       "      <td>This Expert Just Shut Down Every Claim That T...</td>\n",
       "      <td>There should be no doubt that racism is very m...</td>\n",
       "      <td>News</td>\n",
       "      <td>May 29, 2016</td>\n",
       "      <td>0</td>\n",
       "      <td>2130</td>\n",
       "      <td>74</td>\n",
       "    </tr>\n",
       "    <tr>\n",
       "      <th>1</th>\n",
       "      <td>Goldman-run funds most popular with Republican...</td>\n",
       "      <td>NEW YORK (Reuters) - Presidential hopeful Ted ...</td>\n",
       "      <td>politicsNews</td>\n",
       "      <td>January 21, 2016</td>\n",
       "      <td>1</td>\n",
       "      <td>6945</td>\n",
       "      <td>75</td>\n",
       "    </tr>\n",
       "    <tr>\n",
       "      <th>2</th>\n",
       "      <td>Trump F*cks Himself By Admitting Russia Inter...</td>\n",
       "      <td>For months, Donald Trump has denied that Russi...</td>\n",
       "      <td>News</td>\n",
       "      <td>June 24, 2017</td>\n",
       "      <td>0</td>\n",
       "      <td>3848</td>\n",
       "      <td>86</td>\n",
       "    </tr>\n",
       "    <tr>\n",
       "      <th>3</th>\n",
       "      <td>Megyn Kelly Drops The Hammer On Roger Ailes, ...</td>\n",
       "      <td>The era of Roger Ailes at Fox News is definite...</td>\n",
       "      <td>News</td>\n",
       "      <td>July 19, 2016</td>\n",
       "      <td>0</td>\n",
       "      <td>2889</td>\n",
       "      <td>88</td>\n",
       "    </tr>\n",
       "    <tr>\n",
       "      <th>4</th>\n",
       "      <td>DEAR KIDS: Socialism Is Not Cool…Socialism Kil...</td>\n",
       "      <td>This video should be viewed by every middle sc...</td>\n",
       "      <td>politics</td>\n",
       "      <td>Mar 18, 2016</td>\n",
       "      <td>0</td>\n",
       "      <td>251</td>\n",
       "      <td>56</td>\n",
       "    </tr>\n",
       "    <tr>\n",
       "      <th>...</th>\n",
       "      <td>...</td>\n",
       "      <td>...</td>\n",
       "      <td>...</td>\n",
       "      <td>...</td>\n",
       "      <td>...</td>\n",
       "      <td>...</td>\n",
       "      <td>...</td>\n",
       "    </tr>\n",
       "    <tr>\n",
       "      <th>44876</th>\n",
       "      <td>THE DEEP STATE SPEAKS: Clapper and Brennan Thr...</td>\n",
       "      <td>Nice threat to POTUS:  The intelligence commun...</td>\n",
       "      <td>left-news</td>\n",
       "      <td>Jul 24, 2017</td>\n",
       "      <td>0</td>\n",
       "      <td>2321</td>\n",
       "      <td>103</td>\n",
       "    </tr>\n",
       "    <tr>\n",
       "      <th>44877</th>\n",
       "      <td>BREAKING BOMBSHELL: State Department Busted In...</td>\n",
       "      <td>They knew! Can you believe these people? FOX N...</td>\n",
       "      <td>politics</td>\n",
       "      <td>Jan 7, 2016</td>\n",
       "      <td>0</td>\n",
       "      <td>3385</td>\n",
       "      <td>82</td>\n",
       "    </tr>\n",
       "    <tr>\n",
       "      <th>44878</th>\n",
       "      <td>COMEDY GOLD! NANCY PELOSI Talks Clinton And Tr...</td>\n",
       "      <td></td>\n",
       "      <td>politics</td>\n",
       "      <td>Oct 16, 2016</td>\n",
       "      <td>0</td>\n",
       "      <td>1</td>\n",
       "      <td>79</td>\n",
       "    </tr>\n",
       "    <tr>\n",
       "      <th>44879</th>\n",
       "      <td>NSA – ‘Top Secret’ Arsenal Released In Protest...</td>\n",
       "      <td>21st Century Wire says Out of all the intellig...</td>\n",
       "      <td>US_News</td>\n",
       "      <td>April 9, 2017</td>\n",
       "      <td>0</td>\n",
       "      <td>8116</td>\n",
       "      <td>66</td>\n",
       "    </tr>\n",
       "    <tr>\n",
       "      <th>44880</th>\n",
       "      <td>Twitter to brief Congress on possible Russia-b...</td>\n",
       "      <td>WASHINGTON (Reuters) - Twitter Inc (TWTR.N) is...</td>\n",
       "      <td>politicsNews</td>\n",
       "      <td>September 7, 2017</td>\n",
       "      <td>1</td>\n",
       "      <td>2391</td>\n",
       "      <td>69</td>\n",
       "    </tr>\n",
       "  </tbody>\n",
       "</table>\n",
       "<p>44881 rows × 7 columns</p>\n",
       "</div>"
      ],
      "text/plain": [
       "                                                   title  \\\n",
       "0       This Expert Just Shut Down Every Claim That T...   \n",
       "1      Goldman-run funds most popular with Republican...   \n",
       "2       Trump F*cks Himself By Admitting Russia Inter...   \n",
       "3       Megyn Kelly Drops The Hammer On Roger Ailes, ...   \n",
       "4      DEAR KIDS: Socialism Is Not Cool…Socialism Kil...   \n",
       "...                                                  ...   \n",
       "44876  THE DEEP STATE SPEAKS: Clapper and Brennan Thr...   \n",
       "44877  BREAKING BOMBSHELL: State Department Busted In...   \n",
       "44878  COMEDY GOLD! NANCY PELOSI Talks Clinton And Tr...   \n",
       "44879  NSA – ‘Top Secret’ Arsenal Released In Protest...   \n",
       "44880  Twitter to brief Congress on possible Russia-b...   \n",
       "\n",
       "                                                    text       subject  \\\n",
       "0      There should be no doubt that racism is very m...          News   \n",
       "1      NEW YORK (Reuters) - Presidential hopeful Ted ...  politicsNews   \n",
       "2      For months, Donald Trump has denied that Russi...          News   \n",
       "3      The era of Roger Ailes at Fox News is definite...          News   \n",
       "4      This video should be viewed by every middle sc...      politics   \n",
       "...                                                  ...           ...   \n",
       "44876  Nice threat to POTUS:  The intelligence commun...     left-news   \n",
       "44877  They knew! Can you believe these people? FOX N...      politics   \n",
       "44878                                                         politics   \n",
       "44879  21st Century Wire says Out of all the intellig...       US_News   \n",
       "44880  WASHINGTON (Reuters) - Twitter Inc (TWTR.N) is...  politicsNews   \n",
       "\n",
       "                     date  Target  text_length  title_length  \n",
       "0            May 29, 2016       0         2130            74  \n",
       "1       January 21, 2016        1         6945            75  \n",
       "2           June 24, 2017       0         3848            86  \n",
       "3           July 19, 2016       0         2889            88  \n",
       "4            Mar 18, 2016       0          251            56  \n",
       "...                   ...     ...          ...           ...  \n",
       "44876        Jul 24, 2017       0         2321           103  \n",
       "44877         Jan 7, 2016       0         3385            82  \n",
       "44878        Oct 16, 2016       0            1            79  \n",
       "44879       April 9, 2017       0         8116            66  \n",
       "44880  September 7, 2017        1         2391            69  \n",
       "\n",
       "[44881 rows x 7 columns]"
      ]
     },
     "execution_count": 34,
     "metadata": {},
     "output_type": "execute_result"
    }
   ],
   "source": [
    "news"
   ]
  },
  {
   "cell_type": "markdown",
   "id": "3df68f4c",
   "metadata": {},
   "source": [
    "### --------------------------------------------------------------------------------------------------------------------------------------------------------------"
   ]
  },
  {
   "cell_type": "code",
   "execution_count": 35,
   "id": "352b16f9",
   "metadata": {},
   "outputs": [],
   "source": [
    "import re\n",
    "from nltk.corpus import stopwords\n",
    "from nltk.stem.porter import PorterStemmer"
   ]
  },
  {
   "cell_type": "code",
   "execution_count": 36,
   "id": "fa2d5285",
   "metadata": {},
   "outputs": [],
   "source": [
    "input_arr=np.array(news['title'])"
   ]
  },
  {
   "cell_type": "code",
   "execution_count": 37,
   "id": "89f8cfe4",
   "metadata": {},
   "outputs": [],
   "source": [
    "corpus = []\n",
    "\n",
    "for i in range(0, 1000):\n",
    "    newArr = re.sub('[^a-zA-Z]', ' ', input_arr[i])   \n",
    "    newArr = newArr.lower()\n",
    "    newArr = newArr.split()\n",
    "    ps = PorterStemmer()\n",
    "    newArr = [ps.stem(word) for word in newArr if not word in set(stopwords.words('english'))]\n",
    "    newArr = ' '.join(newArr)\n",
    "    corpus.append(newArr)"
   ]
  },
  {
   "cell_type": "markdown",
   "id": "4e282d37",
   "metadata": {},
   "source": [
    "###  A function for model implementation and classification report"
   ]
  },
  {
   "cell_type": "code",
   "execution_count": 38,
   "id": "d4c49bad",
   "metadata": {},
   "outputs": [],
   "source": [
    "def Algo_implement(x_tr,x_te,y_tr,y_te,model):\n",
    "    model.fit(x_tr,y_tr)\n",
    "    y_pred=model.predict(x_te)\n",
    "    report=classification_report(y_te,y_pred)\n",
    "    print(report)\n",
    "    prec = precision_score(y_te, y_pred)\n",
    "    print(\"Precision \",prec)\n",
    "    rec = recall_score(y_te, y_pred)\n",
    "    print(\"Recall \",rec)\n",
    "    f1 = f1_score(y_te, y_pred)\n",
    "    print(\"F1-Score \",f1)\n",
    "    #disp = plot_precision_recall_curve(model, x_te, y_te)\n",
    "    #disp.ax_.set_title('Precision-Recall curve')\n",
    "    "
   ]
  },
  {
   "cell_type": "code",
   "execution_count": 39,
   "id": "79ec273a",
   "metadata": {},
   "outputs": [],
   "source": [
    "X1 = news['title'].iloc[:1000]\n",
    "Y = news['Target'].iloc[:1000]"
   ]
  },
  {
   "cell_type": "markdown",
   "id": "4b5d6404",
   "metadata": {},
   "source": [
    "# Applying TFIDF Vectorizer"
   ]
  },
  {
   "cell_type": "code",
   "execution_count": 40,
   "id": "0068ff07",
   "metadata": {},
   "outputs": [],
   "source": [
    "from sklearn.feature_extraction.text import TfidfVectorizer"
   ]
  },
  {
   "cell_type": "code",
   "execution_count": 41,
   "id": "2705cfc0",
   "metadata": {},
   "outputs": [
    {
     "data": {
      "text/plain": [
       "array([[0., 0., 0., ..., 0., 0., 0.],\n",
       "       [0., 0., 0., ..., 0., 0., 0.],\n",
       "       [0., 0., 0., ..., 0., 0., 0.],\n",
       "       ...,\n",
       "       [0., 0., 0., ..., 0., 0., 0.],\n",
       "       [0., 0., 0., ..., 0., 0., 0.],\n",
       "       [0., 0., 0., ..., 0., 0., 0.]])"
      ]
     },
     "execution_count": 41,
     "metadata": {},
     "output_type": "execute_result"
    }
   ],
   "source": [
    "tf=TfidfVectorizer(analyzer='word',stop_words= 'english')\n",
    "X1=tf.fit_transform(corpus)\n",
    "X1.toarray()"
   ]
  },
  {
   "cell_type": "markdown",
   "id": "4214e3c6",
   "metadata": {},
   "source": [
    "### Splitting data"
   ]
  },
  {
   "cell_type": "code",
   "execution_count": 42,
   "id": "f35ffb5d",
   "metadata": {},
   "outputs": [],
   "source": [
    "x_tr,x_te,y_tr,y_te=train_test_split(X1,Y,test_size=0.3)\n",
    "x_tr=x_tr.toarray()\n",
    "x_te=x_te.toarray()"
   ]
  },
  {
   "cell_type": "code",
   "execution_count": 43,
   "id": "2234753f",
   "metadata": {},
   "outputs": [],
   "source": [
    "def get_stacking():\n",
    "    level0 = list()\n",
    "    level0.append(('bayes', GaussianNB()))\n",
    "    level0.append(('MLP', MLPClassifier()))\n",
    "    level0.append(('AdaBoost', AdaBoostClassifier()))\n",
    "    level0.append(('grad_boost', GradientBoostingClassifier()))\n",
    "    \n",
    "    level1 = LogisticRegression()\n",
    "   \n",
    "    model = StackingClassifier(estimators=level0, final_estimator=level1, cv=6)\n",
    "    return model"
   ]
  },
  {
   "cell_type": "markdown",
   "id": "1bf55258",
   "metadata": {},
   "source": [
    "### Ensemble Model"
   ]
  },
  {
   "cell_type": "code",
   "execution_count": 44,
   "id": "d534d4b6",
   "metadata": {
    "scrolled": true
   },
   "outputs": [
    {
     "name": "stdout",
     "output_type": "stream",
     "text": [
      "              precision    recall  f1-score   support\n",
      "\n",
      "           0       0.92      0.85      0.89       163\n",
      "           1       0.84      0.91      0.87       137\n",
      "\n",
      "    accuracy                           0.88       300\n",
      "   macro avg       0.88      0.88      0.88       300\n",
      "weighted avg       0.88      0.88      0.88       300\n",
      "\n",
      "Precision  0.8389261744966443\n",
      "Recall  0.9124087591240876\n",
      "F1-Score  0.8741258741258742\n"
     ]
    }
   ],
   "source": [
    "Algo_implement(x_tr,x_te,y_tr,y_te,get_stacking())"
   ]
  },
  {
   "cell_type": "markdown",
   "id": "a0f8a4b6",
   "metadata": {},
   "source": [
    "### Applying Naive Bayes"
   ]
  },
  {
   "cell_type": "code",
   "execution_count": 45,
   "id": "7cdbdc8f",
   "metadata": {},
   "outputs": [
    {
     "name": "stdout",
     "output_type": "stream",
     "text": [
      "              precision    recall  f1-score   support\n",
      "\n",
      "           0       0.90      0.83      0.86       163\n",
      "           1       0.81      0.89      0.85       137\n",
      "\n",
      "    accuracy                           0.86       300\n",
      "   macro avg       0.86      0.86      0.86       300\n",
      "weighted avg       0.86      0.86      0.86       300\n",
      "\n",
      "Precision  0.8133333333333334\n",
      "Recall  0.8905109489051095\n",
      "F1-Score  0.8501742160278746\n"
     ]
    }
   ],
   "source": [
    "Algo_implement(x_tr,x_te,y_tr,y_te,MultinomialNB())"
   ]
  },
  {
   "cell_type": "markdown",
   "id": "65800208",
   "metadata": {},
   "source": [
    "### MLP Classifier"
   ]
  },
  {
   "cell_type": "code",
   "execution_count": 46,
   "id": "30914978",
   "metadata": {},
   "outputs": [
    {
     "name": "stdout",
     "output_type": "stream",
     "text": [
      "              precision    recall  f1-score   support\n",
      "\n",
      "           0       0.92      0.81      0.86       163\n",
      "           1       0.80      0.92      0.86       137\n",
      "\n",
      "    accuracy                           0.86       300\n",
      "   macro avg       0.86      0.86      0.86       300\n",
      "weighted avg       0.87      0.86      0.86       300\n",
      "\n",
      "Precision  0.802547770700637\n",
      "Recall  0.9197080291970803\n",
      "F1-Score  0.8571428571428571\n"
     ]
    }
   ],
   "source": [
    "Algo_implement(x_tr,x_te,y_tr,y_te,MLPClassifier())"
   ]
  },
  {
   "cell_type": "markdown",
   "id": "63d32b21",
   "metadata": {},
   "source": [
    "### Gradient Boosting"
   ]
  },
  {
   "cell_type": "code",
   "execution_count": 47,
   "id": "82eb70bf",
   "metadata": {},
   "outputs": [
    {
     "name": "stdout",
     "output_type": "stream",
     "text": [
      "              precision    recall  f1-score   support\n",
      "\n",
      "           0       0.97      0.71      0.82       163\n",
      "           1       0.74      0.98      0.84       137\n",
      "\n",
      "    accuracy                           0.83       300\n",
      "   macro avg       0.86      0.84      0.83       300\n",
      "weighted avg       0.87      0.83      0.83       300\n",
      "\n",
      "Precision  0.7403314917127072\n",
      "Recall  0.9781021897810219\n",
      "F1-Score  0.8427672955974843\n"
     ]
    }
   ],
   "source": [
    "Algo_implement(x_tr,x_te,y_tr,y_te,GradientBoostingClassifier())"
   ]
  },
  {
   "cell_type": "markdown",
   "id": "62ab15c1",
   "metadata": {},
   "source": [
    "### ADA Boost"
   ]
  },
  {
   "cell_type": "code",
   "execution_count": 48,
   "id": "84517aa3",
   "metadata": {},
   "outputs": [
    {
     "name": "stdout",
     "output_type": "stream",
     "text": [
      "              precision    recall  f1-score   support\n",
      "\n",
      "           0       0.88      0.74      0.81       163\n",
      "           1       0.74      0.88      0.81       137\n",
      "\n",
      "    accuracy                           0.81       300\n",
      "   macro avg       0.81      0.81      0.81       300\n",
      "weighted avg       0.82      0.81      0.81       300\n",
      "\n",
      "Precision  0.7423312883435583\n",
      "Recall  0.8832116788321168\n",
      "F1-Score  0.8066666666666666\n"
     ]
    }
   ],
   "source": [
    "Algo_implement(x_tr,x_te,y_tr,y_te, AdaBoostClassifier())"
   ]
  },
  {
   "cell_type": "markdown",
   "id": "e3c3d6f0",
   "metadata": {},
   "source": [
    "### Applying Logistic Regression"
   ]
  },
  {
   "cell_type": "code",
   "execution_count": 49,
   "id": "2596962d",
   "metadata": {},
   "outputs": [
    {
     "name": "stdout",
     "output_type": "stream",
     "text": [
      "              precision    recall  f1-score   support\n",
      "\n",
      "           0       0.94      0.82      0.87       163\n",
      "           1       0.81      0.93      0.87       137\n",
      "\n",
      "    accuracy                           0.87       300\n",
      "   macro avg       0.87      0.88      0.87       300\n",
      "weighted avg       0.88      0.87      0.87       300\n",
      "\n",
      "Precision  0.810126582278481\n",
      "Recall  0.9343065693430657\n",
      "F1-Score  0.8677966101694915\n"
     ]
    }
   ],
   "source": [
    "Algo_implement(x_tr,x_te,y_tr,y_te,LogisticRegression())"
   ]
  },
  {
   "cell_type": "markdown",
   "id": "123b7c25",
   "metadata": {},
   "source": [
    "### Applying Decision Tree"
   ]
  },
  {
   "cell_type": "code",
   "execution_count": 50,
   "id": "21721ac2",
   "metadata": {},
   "outputs": [
    {
     "name": "stdout",
     "output_type": "stream",
     "text": [
      "              precision    recall  f1-score   support\n",
      "\n",
      "           0       0.91      0.70      0.79       163\n",
      "           1       0.72      0.92      0.81       137\n",
      "\n",
      "    accuracy                           0.80       300\n",
      "   macro avg       0.82      0.81      0.80       300\n",
      "weighted avg       0.82      0.80      0.80       300\n",
      "\n",
      "Precision  0.72\n",
      "Recall  0.9197080291970803\n",
      "F1-Score  0.8076923076923076\n"
     ]
    }
   ],
   "source": [
    "Algo_implement(x_tr,x_te,y_tr,y_te,DecisionTreeClassifier(criterion='gini'))"
   ]
  },
  {
   "cell_type": "markdown",
   "id": "182566ca",
   "metadata": {},
   "source": [
    "### Applying KNN"
   ]
  },
  {
   "cell_type": "code",
   "execution_count": 51,
   "id": "0372449c",
   "metadata": {},
   "outputs": [
    {
     "name": "stdout",
     "output_type": "stream",
     "text": [
      "              precision    recall  f1-score   support\n",
      "\n",
      "           0       0.59      0.96      0.73       163\n",
      "           1       0.81      0.21      0.34       137\n",
      "\n",
      "    accuracy                           0.62       300\n",
      "   macro avg       0.70      0.58      0.53       300\n",
      "weighted avg       0.69      0.62      0.55       300\n",
      "\n",
      "Precision  0.8055555555555556\n",
      "Recall  0.2116788321167883\n",
      "F1-Score  0.33526011560693636\n"
     ]
    }
   ],
   "source": [
    "Algo_implement(x_tr,x_te,y_tr,y_te,KNeighborsClassifier(n_neighbors=501))"
   ]
  },
  {
   "cell_type": "code",
   "execution_count": 142,
   "id": "51299395",
   "metadata": {},
   "outputs": [
    {
     "name": "stderr",
     "output_type": "stream",
     "text": [
      "C:\\Users\\Sparsh\\anaconda3\\lib\\site-packages\\sklearn\\utils\\deprecation.py:87: FutureWarning: Function plot_precision_recall_curve is deprecated; Function `plot_precision_recall_curve` is deprecated in 1.0 and will be removed in 1.2. Use one of the class methods: PrecisionRecallDisplay.from_predictions or PrecisionRecallDisplay.from_estimator.\n",
      "  warnings.warn(msg, category=FutureWarning)\n",
      "C:\\Users\\Sparsh\\anaconda3\\lib\\site-packages\\sklearn\\utils\\deprecation.py:87: FutureWarning: Function plot_precision_recall_curve is deprecated; Function `plot_precision_recall_curve` is deprecated in 1.0 and will be removed in 1.2. Use one of the class methods: PrecisionRecallDisplay.from_predictions or PrecisionRecallDisplay.from_estimator.\n",
      "  warnings.warn(msg, category=FutureWarning)\n",
      "C:\\Users\\Sparsh\\anaconda3\\lib\\site-packages\\sklearn\\utils\\deprecation.py:87: FutureWarning: Function plot_precision_recall_curve is deprecated; Function `plot_precision_recall_curve` is deprecated in 1.0 and will be removed in 1.2. Use one of the class methods: PrecisionRecallDisplay.from_predictions or PrecisionRecallDisplay.from_estimator.\n",
      "  warnings.warn(msg, category=FutureWarning)\n",
      "C:\\Users\\Sparsh\\anaconda3\\lib\\site-packages\\sklearn\\utils\\deprecation.py:87: FutureWarning: Function plot_precision_recall_curve is deprecated; Function `plot_precision_recall_curve` is deprecated in 1.0 and will be removed in 1.2. Use one of the class methods: PrecisionRecallDisplay.from_predictions or PrecisionRecallDisplay.from_estimator.\n",
      "  warnings.warn(msg, category=FutureWarning)\n",
      "C:\\Users\\Sparsh\\anaconda3\\lib\\site-packages\\sklearn\\utils\\deprecation.py:87: FutureWarning: Function plot_precision_recall_curve is deprecated; Function `plot_precision_recall_curve` is deprecated in 1.0 and will be removed in 1.2. Use one of the class methods: PrecisionRecallDisplay.from_predictions or PrecisionRecallDisplay.from_estimator.\n",
      "  warnings.warn(msg, category=FutureWarning)\n",
      "C:\\Users\\Sparsh\\anaconda3\\lib\\site-packages\\sklearn\\utils\\deprecation.py:87: FutureWarning: Function plot_precision_recall_curve is deprecated; Function `plot_precision_recall_curve` is deprecated in 1.0 and will be removed in 1.2. Use one of the class methods: PrecisionRecallDisplay.from_predictions or PrecisionRecallDisplay.from_estimator.\n",
      "  warnings.warn(msg, category=FutureWarning)\n"
     ]
    },
    {
     "data": {
      "text/plain": [
       "Text(0.5, 1.0, 'Precision-Recall curve for Tfidf')"
      ]
     },
     "execution_count": 142,
     "metadata": {},
     "output_type": "execute_result"
    },
    {
     "data": {
      "image/png": "[encoded data removed]",
      "text/plain": [
       "<Figure size 720x432 with 1 Axes>"
      ]
     },
     "metadata": {},
     "output_type": "display_data"
    }
   ],
   "source": [
    "proposed=get_stacking()\n",
    "proposed.fit(x_tr,y_tr)\n",
    "nb=MultinomialNB()\n",
    "nb.fit(x_tr,y_tr)\n",
    "mlp=MLPClassifier()\n",
    "mlp.fit(x_tr,y_tr)\n",
    "gb=GradientBoostingClassifier()\n",
    "gb.fit(x_tr,y_tr)\n",
    "ada=AdaBoostClassifier()\n",
    "ada.fit(x_tr,y_tr)\n",
    "lr=LogisticRegression()\n",
    "lr.fit(x_tr,y_tr)\n",
    "dt=DecisionTreeClassifier(criterion='gini')\n",
    "dt.fit(x_tr,y_tr)\n",
    "knn=KNeighborsClassifier(n_neighbors=501)\n",
    "knn.fit(x_tr,y_tr)\n",
    "\n",
    "plt.figure(figsize = (10,6))\n",
    "plot_precision_recall_curve(proposed, x_te, y_te, ax = plt.gca(),name = \"Proposed\")\n",
    "plot_precision_recall_curve(nb, x_te, y_te, ax = plt.gca(),name = \"Naive Bayes\")\n",
    "plot_precision_recall_curve(mlp, x_te, y_te, ax = plt.gca(),name = \"MLP\")\n",
    "plot_precision_recall_curve(gb, x_te, y_te, ax = plt.gca(),name = \"Gradient Boost\")\n",
    "plot_precision_recall_curve(ada, x_te, y_te, ax = plt.gca(),name = \"ADA Boost\")\n",
    "plot_precision_recall_curve(lr, x_te, y_te, ax = plt.gca(),name = \"Logistic Regression\")\n",
    "#plot_precision_recall_curve(dt, x_te, y_te, ax = plt.gca(),name = \"Decision Tree\")\n",
    "#plot_precision_recall_curve(knn, x_te, y_te, ax = plt.gca(),name = \"KNN\")\n",
    "plt.title('Precision-Recall curve for Tfidf')"
   ]
  },
  {
   "cell_type": "markdown",
   "id": "1b1c096a",
   "metadata": {},
   "source": [
    "### --------------------------------------------------------------------------------------------------------------------------------------------------------------"
   ]
  },
  {
   "cell_type": "code",
   "execution_count": 140,
   "id": "e3c82214",
   "metadata": {},
   "outputs": [
    {
     "name": "stderr",
     "output_type": "stream",
     "text": [
      "C:\\Users\\Sparsh\\AppData\\Roaming\\Python\\Python39\\site-packages\\seaborn\\_decorators.py:36: FutureWarning: Pass the following variables as keyword args: x, y. From version 0.12, the only valid positional argument will be `data`, and passing other arguments without an explicit keyword will result in an error or misinterpretation.\n",
      "  warnings.warn(\n"
     ]
    },
    {
     "data": {
      "image/png": "[encoded data removed]",
      "text/plain": [
       "<Figure size 432x288 with 1 Axes>"
      ]
     },
     "metadata": {},
     "output_type": "display_data"
    }
   ],
   "source": [
    "data={\"Ensemble\":0.89,\"MLP\":0.86,\"Gradient Boost\":0.80,\"Naive Bayes\":0.86,\"ADA Boost\":0.78,\"Logistic Regression\":0.87,\"Decision Tree\":0.77,\"KNN\":0.52}\n",
    "techniques = list(data.keys())\n",
    "accuracy = list(data.values())\n",
    "sns.barplot(accuracy, techniques)\n",
    "plt.title(\"Using TFIDF Vectorizer\")\n",
    "plt.xlabel(\"Accuracy\")\n",
    "plt.ylabel(\"Models\")\n",
    "plt.show()"
   ]
  },
  {
   "cell_type": "code",
   "execution_count": null,
   "id": "62bbfe8c",
   "metadata": {},
   "outputs": [],
   "source": [
    "from sklearn.metrics import precision_recall_curve\n",
    "from sklearn.metrics import plot_precision_recall_curve\n",
    "import matplotlib.pyplot as plt\n",
    "\n",
    "plot_precision_recall_curve(ada, x_test, y_test, ax = plt.gca(),name = \"AdaBoost\")\n",
    "\n",
    "plot_precision_recall_curve(ada_sm, x_test, y_test, ax = plt.gca(),name = \"SMOTE\")\n",
    "\n",
    "plot_precision_recall_curve(ada_rus, x_test, y_test, ax = plt.gca(),name = \"RUS\")\n",
    "\n",
    "plt.title('Precision-Recall curve')"
   ]
  }
 ],
 "metadata": {
  "kernelspec": {
   "display_name": "Python 3",
   "language": "python",
   "name": "python3"
  },
  "language_info": {
   "codemirror_mode": {
    "name": "ipython",
    "version": 3
   },
   "file_extension": ".py",
   "mimetype": "text/x-python",
   "name": "python",
   "nbconvert_exporter": "python",
   "pygments_lexer": "ipython3",
   "version": "3.9.12"
  }
 },
 "nbformat": 4,
 "nbformat_minor": 5
}
